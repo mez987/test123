{
 "cells": [
  {
   "cell_type": "markdown",
   "id": "e1371201",
   "metadata": {},
   "source": [
    "\n",
    "\n",
    "\n",
    "# تمرین هفته دوم -آشنایی با پایتون \n",
    "\n",
    "\n",
    "* Data types\n",
    "\n",
    "    * Tuples \n",
    "    * Sets\n",
    "    * Dictionaries\n",
    "    * Booleans\n",
    "\n",
    "* Comparison Operators\n",
    "* if, elif, else Statements"
   ]
  },
  {
   "cell_type": "markdown",
   "id": "36908e5c",
   "metadata": {},
   "source": [
    "# Tupel"
   ]
  },
  {
   "cell_type": "code",
   "execution_count": null,
   "id": "536fba2f",
   "metadata": {},
   "outputs": [],
   "source": [
    "my_list = [1,2,3]"
   ]
  },
  {
   "cell_type": "code",
   "execution_count": null,
   "id": "a64800d0",
   "metadata": {},
   "outputs": [],
   "source": [
    "my_list"
   ]
  },
  {
   "cell_type": "code",
   "execution_count": null,
   "id": "14120917",
   "metadata": {},
   "outputs": [],
   "source": [
    "my_list[0]"
   ]
  },
  {
   "cell_type": "code",
   "execution_count": null,
   "id": "22221a70",
   "metadata": {},
   "outputs": [],
   "source": [
    "my_tuple = (1,2,3)"
   ]
  },
  {
   "cell_type": "code",
   "execution_count": null,
   "id": "c06ff070",
   "metadata": {},
   "outputs": [],
   "source": [
    "my_tuple"
   ]
  },
  {
   "cell_type": "code",
   "execution_count": null,
   "id": "f18276ef",
   "metadata": {},
   "outputs": [],
   "source": [
    "my_tuple[0]"
   ]
  },
  {
   "cell_type": "code",
   "execution_count": null,
   "id": "713a1266",
   "metadata": {},
   "outputs": [],
   "source": [
    "my_list[0]= 'New'"
   ]
  },
  {
   "cell_type": "code",
   "execution_count": null,
   "id": "2c150f5a",
   "metadata": {},
   "outputs": [],
   "source": [
    "my_list"
   ]
  },
  {
   "cell_type": "code",
   "execution_count": null,
   "id": "71ea59db",
   "metadata": {},
   "outputs": [],
   "source": [
    "my_tuple[0]= 'New'"
   ]
  },
  {
   "cell_type": "markdown",
   "id": "44e1cb0b",
   "metadata": {},
   "source": [
    "# تفاوت لیست و تاپل در پایتون چیست؟ \n"
   ]
  },
  {
   "cell_type": "markdown",
   "id": "3a2e87b2",
   "metadata": {},
   "source": [
    "# SET"
   ]
  },
  {
   "cell_type": "code",
   "execution_count": null,
   "id": "bff08f8f",
   "metadata": {},
   "outputs": [],
   "source": [
    "my_set = {1,2,3}"
   ]
  },
  {
   "cell_type": "code",
   "execution_count": null,
   "id": "f603886e",
   "metadata": {},
   "outputs": [],
   "source": [
    "my_set"
   ]
  },
  {
   "cell_type": "code",
   "execution_count": null,
   "id": "a1e8e218",
   "metadata": {},
   "outputs": [],
   "source": [
    "my_set = {1,1,2,2,3,3,3}"
   ]
  },
  {
   "cell_type": "code",
   "execution_count": null,
   "id": "14950e1f",
   "metadata": {},
   "outputs": [],
   "source": [
    "my_set"
   ]
  },
  {
   "cell_type": "markdown",
   "id": "84a91dd3",
   "metadata": {},
   "source": [
    "# Dictionary"
   ]
  },
  {
   "cell_type": "code",
   "execution_count": null,
   "id": "1b8e0b13",
   "metadata": {},
   "outputs": [],
   "source": [
    "my_dic = {'key1':'value1', 'key2':'value2'}"
   ]
  },
  {
   "cell_type": "code",
   "execution_count": null,
   "id": "c49ab292",
   "metadata": {},
   "outputs": [],
   "source": [
    "my_dic"
   ]
  },
  {
   "cell_type": "code",
   "execution_count": null,
   "id": "131a0a82",
   "metadata": {},
   "outputs": [],
   "source": [
    "my_dic[0]"
   ]
  },
  {
   "cell_type": "code",
   "execution_count": null,
   "id": "358a2dfd",
   "metadata": {},
   "outputs": [],
   "source": [
    "my_dic['key1']"
   ]
  },
  {
   "cell_type": "code",
   "execution_count": null,
   "id": "bb8a0a70",
   "metadata": {},
   "outputs": [],
   "source": [
    "dic_1 = {'A':'monogram', 'B':1, 'C':[1,3,6]}"
   ]
  },
  {
   "cell_type": "code",
   "execution_count": null,
   "id": "84504e9b",
   "metadata": {},
   "outputs": [],
   "source": [
    "dic_1['C']"
   ]
  },
  {
   "cell_type": "markdown",
   "id": "007e61c7",
   "metadata": {},
   "source": [
    "# چگونه میتوان عدد 6 را از دیکشنری بدست آورد #  "
   ]
  },
  {
   "cell_type": "markdown",
   "id": "7e0748ca",
   "metadata": {},
   "source": [
    "# یک دیکشنری بسازید که عضوهای آن اسم ,سن وشغل سه نفر از دوستاتون باشه"
   ]
  },
  {
   "cell_type": "markdown",
   "id": "57570e53",
   "metadata": {},
   "source": [
    "# Boolean"
   ]
  },
  {
   "cell_type": "code",
   "execution_count": null,
   "id": "cef0f34a",
   "metadata": {},
   "outputs": [],
   "source": [
    "True"
   ]
  },
  {
   "cell_type": "code",
   "execution_count": null,
   "id": "fd69df21",
   "metadata": {},
   "outputs": [],
   "source": [
    "False"
   ]
  },
  {
   "cell_type": "code",
   "execution_count": null,
   "id": "7f467945",
   "metadata": {},
   "outputs": [],
   "source": [
    "1<4"
   ]
  },
  {
   "cell_type": "code",
   "execution_count": null,
   "id": "ff929301",
   "metadata": {},
   "outputs": [],
   "source": [
    "5>9"
   ]
  },
  {
   "cell_type": "markdown",
   "id": "a88b9736",
   "metadata": {},
   "source": [
    "# Comparison Operators"
   ]
  },
  {
   "cell_type": "code",
   "execution_count": null,
   "id": "22dce00c",
   "metadata": {},
   "outputs": [],
   "source": [
    "1 == 1"
   ]
  },
  {
   "cell_type": "code",
   "execution_count": null,
   "id": "9c4cb3b3",
   "metadata": {},
   "outputs": [],
   "source": [
    "1 <= 4"
   ]
  },
  {
   "cell_type": "code",
   "execution_count": null,
   "id": "7cda8cc8",
   "metadata": {},
   "outputs": [],
   "source": [
    "'hi' == 'bye'"
   ]
  },
  {
   "cell_type": "markdown",
   "id": "e7d68293",
   "metadata": {},
   "source": [
    "# Logic Operators"
   ]
  },
  {
   "cell_type": "code",
   "execution_count": null,
   "id": "c6838b3d",
   "metadata": {},
   "outputs": [],
   "source": [
    "(1 > 2) and (2 < 3)"
   ]
  },
  {
   "cell_type": "code",
   "execution_count": null,
   "id": "35db57fa",
   "metadata": {},
   "outputs": [],
   "source": [
    "(1 > 2) or (2 < 3)"
   ]
  },
  {
   "cell_type": "code",
   "execution_count": null,
   "id": "8b0d8a9b",
   "metadata": {},
   "outputs": [],
   "source": [
    "(1 == 2) or (2 == 3) or (4 == 4)"
   ]
  },
  {
   "cell_type": "markdown",
   "id": "c7f36127",
   "metadata": {},
   "source": [
    "# if,elif, else Statements"
   ]
  },
  {
   "cell_type": "code",
   "execution_count": null,
   "id": "02d37c9e",
   "metadata": {},
   "outputs": [],
   "source": [
    "if 1 < 2:\n",
    "    print('Yep!')"
   ]
  },
  {
   "cell_type": "code",
   "execution_count": null,
   "id": "efb9a273",
   "metadata": {},
   "outputs": [],
   "source": [
    "if 1 < 2:\n",
    "    print('first')\n",
    "else:\n",
    "    print('last')"
   ]
  },
  {
   "cell_type": "code",
   "execution_count": null,
   "id": "eada328c",
   "metadata": {},
   "outputs": [],
   "source": [
    "if 1 > 2:\n",
    "    print('first')\n",
    "else:\n",
    "    print('last')"
   ]
  },
  {
   "cell_type": "code",
   "execution_count": null,
   "id": "3e005971",
   "metadata": {},
   "outputs": [],
   "source": [
    "if 1 == 2:\n",
    "    print('first')\n",
    "elif 3 == 3:\n",
    "    print('middle')\n",
    "else:\n",
    "    print('Last')"
   ]
  },
  {
   "cell_type": "markdown",
   "id": "e2c53358",
   "metadata": {},
   "source": [
    "# Great Job!"
   ]
  },
  {
   "cell_type": "code",
   "execution_count": null,
   "id": "2015c40d",
   "metadata": {},
   "outputs": [],
   "source": []
  }
 ],
 "metadata": {
  "kernelspec": {
   "display_name": "Python 3 (ipykernel)",
   "language": "python",
   "name": "python3"
  },
  "language_info": {
   "codemirror_mode": {
    "name": "ipython",
    "version": 3
   },
   "file_extension": ".py",
   "mimetype": "text/x-python",
   "name": "python",
   "nbconvert_exporter": "python",
   "pygments_lexer": "ipython3",
   "version": "3.8.3"
  }
 },
 "nbformat": 4,
 "nbformat_minor": 5
}
